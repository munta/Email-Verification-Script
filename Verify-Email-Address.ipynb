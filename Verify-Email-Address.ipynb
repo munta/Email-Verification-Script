{
 "cells": [
  {
   "cell_type": "code",
   "execution_count": 6,
   "metadata": {},
   "outputs": [
    {
     "name": "stdout",
     "output_type": "stream",
     "text": [
      "Please enter the emailAddress to verify:jmmuntane@gmail.com\n",
      "Domain: gmail.com\n",
      "Success\n"
     ]
    }
   ],
   "source": [
    "import re\n",
    "import smtplib\n",
    "import dns.resolver\n",
    "\n",
    "# Address used for SMTP MAIL FROM command  \n",
    "fromAddress = 'me@domain.com'\n",
    "\n",
    "# Simple Regex for syntax checking\n",
    "regex = '^[_a-z0-9-]+(\\.[_a-z0-9-]+)*@[a-z0-9-]+(\\.[a-z0-9-]+)*(\\.[a-z]{2,})$'\n",
    "\n",
    "# Email address to verify\n",
    "inputAddress = input('Please enter the emailAddress to verify:')\n",
    "addressToVerify = str(inputAddress)\n",
    "\n",
    "# Syntax check\n",
    "match = re.match(regex, addressToVerify)\n",
    "if match == None:\n",
    "    print('Bad Syntax')\n",
    "    raise ValueError('Bad Syntax')\n",
    "\n",
    "# Get domain for DNS lookup\n",
    "splitAddress = addressToVerify.split('@')\n",
    "domain = str(splitAddress[1])\n",
    "print('Domain:', domain)\n",
    "\n",
    "# MX record lookup\n",
    "records = dns.resolver.query(domain, 'MX')\n",
    "mxRecord = records[0].exchange\n",
    "mxRecord = str(mxRecord)\n",
    "\n",
    "\n",
    "# SMTP lib setup (use debug level for full output)\n",
    "server = smtplib.SMTP()\n",
    "server.set_debuglevel(0)\n",
    "\n",
    "# SMTP Conversation\n",
    "server.connect(mxRecord)\n",
    "server.helo(server.local_hostname) ### server.local_hostname(Get local server hostname)\n",
    "server.mail(fromAddress)\n",
    "code, message = server.rcpt(str(addressToVerify))\n",
    "server.quit()\n",
    "\n",
    "#print(code)\n",
    "#print(message)\n",
    "\n",
    "# Assume SMTP response 250 is success\n",
    "if code == 250:\n",
    "    print('Success')\n",
    "else:\n",
    "    print('Bad')"
   ]
  },
  {
   "cell_type": "code",
   "execution_count": null,
   "metadata": {},
   "outputs": [],
   "source": []
  }
 ],
 "metadata": {
  "kernelspec": {
   "display_name": "Python 3",
   "language": "python",
   "name": "python3"
  },
  "language_info": {
   "codemirror_mode": {
    "name": "ipython",
    "version": 3
   },
   "file_extension": ".py",
   "mimetype": "text/x-python",
   "name": "python",
   "nbconvert_exporter": "python",
   "pygments_lexer": "ipython3",
   "version": "3.7.0"
  }
 },
 "nbformat": 4,
 "nbformat_minor": 2
}
